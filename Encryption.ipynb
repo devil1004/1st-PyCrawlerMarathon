{
 "cells": [
  {
   "cell_type": "code",
   "execution_count": 32,
   "id": "21ccac2a",
   "metadata": {},
   "outputs": [],
   "source": [
    "a = [tuple([f'{i+j*4:02d}' for i in range(1,5)]) for j in range(4)]\n",
    "\n",
    "#產生陣列表\n",
    "mat = []\n",
    "for n in range(4):\n",
    "    mat.append(a)\n",
    "    a = list(zip(*a[::-1]))\n"
   ]
  },
  {
   "cell_type": "code",
   "execution_count": 36,
   "id": "7434241e",
   "metadata": {
    "scrolled": true
   },
   "outputs": [],
   "source": [
    "#代碼轉換 1 2\n",
    "#         4 3\n",
    "\n",
    "s = 'ybgbryyggrbybgrg'\n",
    "for i in [['g','1'],['y','2'],['r','3'],['b','4']]:\n",
    "    s = s.replace(i[0],i[1])\n",
    "\n",
    "#加密金鑰\n",
    "mask_key = '2414322113424131'\n",
    "\n",
    "#各象限資料拼接 ['01','02','03',...,'15','16']\n",
    "mask = [list(a[0]+a[1]+a[2]+a[3]) for a in mat]\n",
    "\n",
    "#填入遮罩['01',' X','03',...,'15',' X']\n",
    "for n in range(16):\n",
    "    s = int(mask_key[n])-1\n",
    "    mask[s][mask[s].index(f'{n+1:02d}')] =' X'\n",
    "\n",
    "#產生遮罩\n",
    "mask = [[n[i:i+4] for i in [0,4,8,12]] for n in mask]\n",
    "mask_r = [tuple(mask[0][i]+mask[1][i]) for i in range(4)]+[tuple(mask[3][i]+mask[2][i]) for i in range(4)]\n",
    "\n"
   ]
  },
  {
   "cell_type": "code",
   "execution_count": 37,
   "id": "20e6f4f0",
   "metadata": {},
   "outputs": [],
   "source": [
    "msg = [['這','請','今','廠','，','商','樣','天'],\n",
    "       ['然','就','可','發','印','以','現','後'],\n",
    "       ['了','我','製','有','超','只','一','密'],\n",
    "       ['碼','種','要','暴','紙','利','一','每'],\n",
    "       ['的','過','張','50','用','賺','２','％'],\n",
    "       ['以','元','錢','張','成','上','方','的'],\n",
    "       ['式','價','本','的','格','不','到','，'],\n",
    "       ['賣','一','利','我','潤','出','XD','元']]\n"
   ]
  },
  {
   "cell_type": "code",
   "execution_count": 38,
   "id": "99834c18",
   "metadata": {},
   "outputs": [
    {
     "data": {
      "text/plain": [
       "'今天發現了一種暴利的賺錢方式，我請廠商印製密碼紙一張成本不到一元，然後我只要每張用２元的價格賣出這樣就可以有超過50％以上的利潤XD'"
      ]
     },
     "execution_count": 38,
     "metadata": {},
     "output_type": "execute_result"
    }
   ],
   "source": [
    "out = msg\n",
    "result = ''\n",
    "for t in range(4):\n",
    "    for n in range(8):\n",
    "        for m in range(8):\n",
    "            if mask_r[n][m] == ' X':\n",
    "                result += out[n][m]\n",
    "    mask_r = list(zip(*mask_r[::-1]))\n",
    "    \n",
    "result\n",
    "        "
   ]
  },
  {
   "cell_type": "code",
   "execution_count": 41,
   "id": "41866ea4",
   "metadata": {},
   "outputs": [
    {
     "data": {
      "text/plain": [
       "[['中', '加', '歷', '上', '相', '神', '，', '史'],\n",
       " ['，', '佑', '老', '上', '奇', '師', '很', '今'],\n",
       " ['多', '天', '的', '請', '以', '就', '偉', '密'],\n",
       " ['碼', '大', '帶', '的', '，', '科', '讓', '你'],\n",
       " ['學', '購', '來', '買', '加', '家', '入', '代'],\n",
       " ['替', '他', '都', '後', '人', '支', '會', '們'],\n",
       " ['將', '的', '無', '持', '行', '法', '看', '筆'],\n",
       " ['列', '見', '頻', '記', '道', '之', '。', '真']]"
      ]
     },
     "execution_count": 41,
     "metadata": {},
     "output_type": "execute_result"
    }
   ],
   "source": [
    "txt = '歷史上很多偉大的科學家都會將筆記加上神奇的密碼，讓後人無法看見真相，今天就帶你來加入他們的行列之中，佑老師請以購買代替支持頻道。'\n",
    "\n",
    "out = [[' ']*8 for i in range(8)]\n",
    "s = 0\n",
    "\n",
    "for t in range(4):\n",
    "    for n in range(8):\n",
    "        for m in range(8):\n",
    "            if mask_r[n][m] == ' X':\n",
    "                out[n][m] = txt[s]\n",
    "                s+= 1\n",
    "\n",
    "    mask_r = list(zip(*mask_r[::-1]))\n",
    "out"
   ]
  },
  {
   "cell_type": "code",
   "execution_count": 23,
   "id": "e22716ee",
   "metadata": {},
   "outputs": [
    {
     "data": {
      "text/plain": [
       "[('01', '02', ' X', '04', '13', '09', '05', ' X'),\n",
       " ('05', '06', '07', ' X', '14', '10', ' X', '02'),\n",
       " (' X', '10', '11', '12', '15', '11', ' X', '03'),\n",
       " ('13', ' X', '15', ' X', '16', ' X', '08', '04'),\n",
       " (' X', '08', '12', '16', '16', ' X', '14', '13'),\n",
       " ('03', '07', ' X', '15', '12', '11', ' X', '09'),\n",
       " (' X', '06', '10', '14', '08', '07', '06', ' X'),\n",
       " ('01', '05', '09', ' X', '04', '03', '02', '01')]"
      ]
     },
     "execution_count": 23,
     "metadata": {},
     "output_type": "execute_result"
    }
   ],
   "source": [
    "mask_r"
   ]
  }
 ],
 "metadata": {
  "kernelspec": {
   "display_name": "Python 3 (ipykernel)",
   "language": "python",
   "name": "python3"
  },
  "language_info": {
   "codemirror_mode": {
    "name": "ipython",
    "version": 3
   },
   "file_extension": ".py",
   "mimetype": "text/x-python",
   "name": "python",
   "nbconvert_exporter": "python",
   "pygments_lexer": "ipython3",
   "version": "3.9.6"
  },
  "toc": {
   "base_numbering": 1,
   "nav_menu": {},
   "number_sections": true,
   "sideBar": true,
   "skip_h1_title": false,
   "title_cell": "Table of Contents",
   "title_sidebar": "Contents",
   "toc_cell": false,
   "toc_position": {},
   "toc_section_display": true,
   "toc_window_display": false
  }
 },
 "nbformat": 4,
 "nbformat_minor": 5
}
